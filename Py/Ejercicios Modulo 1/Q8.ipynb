{
 "cells": [
  {
   "cell_type": "code",
   "execution_count": 11,
   "metadata": {},
   "outputs": [
    {
     "name": "stdout",
     "output_type": "stream",
     "text": [
      "['abc', 'bcd', 'opq']\n"
     ]
    }
   ],
   "source": [
    "s_list = ['abc', 'bcd', 'bcdefg', 'abba', 'cddc', 'opq']\n",
    "s_list.sort(key=len) \n",
    "short_list = []\n",
    "for i in s_list: \n",
    "     if len(i)<=len(s_list[0]): \n",
    "         short_list.append(i)\n",
    "print(short_list)\n"
   ]
  },
  {
   "cell_type": "code",
   "execution_count": 13,
   "metadata": {},
   "outputs": [
    {
     "name": "stdout",
     "output_type": "stream",
     "text": [
      "['RM', 'Jin', 'Suga', 'J-Hope', 'Jimin', 'V', 'Jungkook']\n"
     ]
    }
   ],
   "source": [
    "#create a list with bts members \n",
    "\n",
    "bts = ['RM', 'Jin', 'Suga', 'J-Hope', 'Jimin', 'V', 'Jungkook']\n",
    "print (bts)\n",
    " \n",
    " "
   ]
  },
  {
   "cell_type": "code",
   "execution_count": 20,
   "metadata": {},
   "outputs": [
    {
     "name": "stdout",
     "output_type": "stream",
     "text": [
      "5050\n"
     ]
    }
   ],
   "source": [
    "#sum of integers from 1 to 100\n",
    "  \n",
    "sum = 0\n",
    "for i in range(1,101):\n",
    "    sum = sum + i\n",
    "print(sum)\n",
    " "
   ]
  },
  {
   "cell_type": "code",
   "execution_count": 26,
   "metadata": {},
   "outputs": [
    {
     "name": "stdout",
     "output_type": "stream",
     "text": [
      "2500\n"
     ]
    }
   ],
   "source": [
    "#sum of odd numbers from 1 to 100   \n",
    "sum = 0\n",
    "for i in range(1,101):\n",
    "    if i%2 != 0:\n",
    "        sum = sum + i\n",
    "print(sum)\n",
    " "
   ]
  },
  {
   "cell_type": "code",
   "execution_count": 45,
   "metadata": {},
   "outputs": [
    {
     "name": "stdout",
     "output_type": "stream",
     "text": [
      "[1, 2, 3, 4, 5]\n",
      "[0, 6, 7, 8, 0]\n",
      "[0, 0, 9, 0, 0]\n",
      "[0, 0, 0, 0, 0]\n",
      "[0, 0, 0, 0, 0]\n"
     ]
    }
   ],
   "source": [
    "# Create an empty matrix with 5 rows and 5 columns\n",
    "matrix = [[0] * 5 for i in range(5)]\n",
    "\n",
    "# Start with the number 1 and add the numbers in ascending order\n",
    "# moving down the first column, then up the second column, and so on\n",
    "n = 1\n",
    "for i in range(5):\n",
    "    for j in range(i, 5 - i):\n",
    "        matrix[i][j] = n\n",
    "        n += 1\n",
    "\n",
    "# Print the matrix\n",
    "for row in matrix:\n",
    "    print(row)\n",
    "\n"
   ]
  },
  {
   "cell_type": "code",
   "execution_count": 25,
   "metadata": {},
   "outputs": [
    {
     "name": "stdout",
     "output_type": "stream",
     "text": [
      "2500\n"
     ]
    }
   ],
   "source": [
    "sum = 0\n",
    "for i in range(1,101, 2):\n",
    "    sum = sum + i\n",
    "print(sum)\n",
    " "
   ]
  },
  {
   "cell_type": "code",
   "execution_count": 1,
   "metadata": {},
   "outputs": [
    {
     "name": "stdout",
     "output_type": "stream",
     "text": [
      "[1, 2, 3, 4, 5]\n",
      "[16, 17, 18, 19, 6]\n",
      "[15, 24, 25, 20, 7]\n",
      "[14, 23, 22, 21, 8]\n",
      "[13, 12, 11, 10, 9]\n"
     ]
    }
   ],
   "source": [
    "# define the size of the matrix\n",
    "n = 5\n",
    "\n",
    "# create an empty matrix of the specified size\n",
    "matrix = []\n",
    "for i in range(n):\n",
    "    matrix.append([0] * n)\n",
    "\n",
    "# define the starting position and direction\n",
    "x = 0\n",
    "y = 0\n",
    "direction = \"right\"\n",
    "\n",
    "# define the values to fill the matrix with\n",
    "values = [1, 2, 3, 4, 5, 6, 7, 8, 9, 10, 11, 12, 13, 14, 15, 16, 17, 18, 19, 20, 21, 22, 23, 24, 25]\n",
    "\n",
    "# fill the matrix in a serpent pattern\n",
    "for value in values:\n",
    "    matrix[y][x] = value\n",
    "    if direction == \"right\":\n",
    "        if x + 1 >= n or matrix[y][x + 1] != 0:\n",
    "            direction = \"down\"\n",
    "            y += 1\n",
    "        else:\n",
    "            x += 1\n",
    "    elif direction == \"down\":\n",
    "        if y + 1 >= n or matrix[y + 1][x] != 0:\n",
    "            direction = \"left\"\n",
    "            x -= 1\n",
    "        else:\n",
    "            y += 1\n",
    "    elif direction == \"left\":\n",
    "        if x - 1 < 0 or matrix[y][x - 1] != 0:\n",
    "            direction = \"up\"\n",
    "            y -= 1\n",
    "        else:\n",
    "            x -= 1\n",
    "    elif direction == \"up\":\n",
    "        if y - 1 < 0 or matrix[y - 1][x] != 0:\n",
    "            direction = \"right\"\n",
    "            x += 1\n",
    "        else:\n",
    "            y -= 1\n",
    "\n",
    "# print the matrix\n",
    "for row in matrix:\n",
    "    print(row)\n"
   ]
  }
 ],
 "metadata": {
  "kernelspec": {
   "display_name": "Python 3.8.5 64-bit",
   "language": "python",
   "name": "python3"
  },
  "language_info": {
   "codemirror_mode": {
    "name": "ipython",
    "version": 3
   },
   "file_extension": ".py",
   "mimetype": "text/x-python",
   "name": "python",
   "nbconvert_exporter": "python",
   "pygments_lexer": "ipython3",
   "version": "3.8.5"
  },
  "orig_nbformat": 4,
  "vscode": {
   "interpreter": {
    "hash": "1d7f39b2b0bfe5bdaa3f9f492df23bdca5d327be912c630d1f67bfb7f9f16537"
   }
  }
 },
 "nbformat": 4,
 "nbformat_minor": 2
}
