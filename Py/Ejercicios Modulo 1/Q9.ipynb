{
 "cells": [
  {
   "cell_type": "code",
   "execution_count": null,
   "metadata": {},
   "outputs": [],
   "source": [
    "# define the starting value and the limit\n",
    "x = 1\n",
    "limit = 10\n",
    "\n",
    "# loop until the limit is reached\n",
    "while x <= limit:\n",
    "    # calculate the multiplication and print the result\n",
    "    result = 2 * x\n",
    "    print(\"2 x\", x, \"=\", result)\n",
    "\n",
    "    # increment the value\n",
    "    x += 1\n",
    "     \n",
    "     "
   ]
  },
  {
   "cell_type": "code",
   "execution_count": null,
   "metadata": {},
   "outputs": [],
   "source": [
    "# define the starting and ending values\n",
    "start = 1\n",
    "end = 9\n",
    "\n",
    "# loop over the range of numbers\n",
    "x = start\n",
    "while x <= end:\n",
    "    # loop over the range of numbers again\n",
    "    y = start\n",
    "    while y <= end:\n",
    "        # calculate the multiplication and print the result\n",
    "        result = x * y\n",
    "        print(x, \"x\", y, \"=\", result)\n",
    "\n",
    "        # increment the value\n",
    "        y += 1\n",
    "\n",
    "    # increment the value\n",
    "    x += 1\n",
    "     "
   ]
  },
  {
   "cell_type": "code",
   "execution_count": 14,
   "metadata": {},
   "outputs": [
    {
     "name": "stdout",
     "output_type": "stream",
     "text": [
      "456 is not a palindrome.\n"
     ]
    }
   ],
   "source": [
    "# define a function to check if a number is a palindrome\n",
    "def is_palindrome(num):\n",
    "    # create an empty string to store the reversed number\n",
    "    rev = \"\"\n",
    "\n",
    "    # loop over the digits of the number in reverse order\n",
    "    for ch in str(num)[::-1]:\n",
    "        # add the current digit to the reversed number string\n",
    "        rev += ch\n",
    "\n",
    "    # compare the reversed number string to the original number and return the result\n",
    "    return rev == str(num)\n",
    "\n",
    "# ask the user to enter a number\n",
    "num = input(\"Enter a positive integer: \")\n",
    "\n",
    "# check if the entered value is a positive integer\n",
    "while not num.isdigit():\n",
    "    # ask the user to enter a positive integer again\n",
    "    print(\"Please enter a positive integer.\")\n",
    "    num = input(\"Enter a positive integer: \")\n",
    "\n",
    "# convert the entered value to an integer\n",
    "num = int(num)\n",
    "\n",
    "# check if the number is a palindrome and print the result\n",
    "if is_palindrome(num):\n",
    "    print(num, \"is a palindrome.\")\n",
    "else:\n",
    "    print(num, \"is not a palindrome.\")\n",
    "     "
   ]
  },
  {
   "cell_type": "code",
   "execution_count": 16,
   "metadata": {},
   "outputs": [
    {
     "name": "stdout",
     "output_type": "stream",
     "text": [
      "I guessed it!\n"
     ]
    }
   ],
   "source": [
    "#find the number between 1 and 100 by giving higher or lower hints \n",
    "# Path: Ejercicios Modulo 1\\Q11.ipynb\n",
    "# define the starting and ending values\n",
    "start = 1\n",
    "end = 100\n",
    "  \n",
    "# loop until the user guesses the correct number\n",
    "while True:\n",
    "    # calculate the middle value\n",
    "    mid = (start + end) // 2\n",
    "\n",
    "    # ask the user to guess the number\n",
    "    guess = input(\"Is it \" + str(mid) + \"? (y/n) \")\n",
    "\n",
    "    # check if the user guessed the number\n",
    "    if guess == \"y\":\n",
    "        # print the result\n",
    "        print(\"I guessed it!\")\n",
    "        break\n",
    "    # check if the user's guess was too high\n",
    "    elif guess == \"n\":\n",
    "        # ask the user if the number is higher or lower\n",
    "        hint = input(\"Is it higher or lower? (h/l) \")\n",
    "\n",
    "        # check if the number is higher\n",
    "        if hint == \"h\":\n",
    "            # update the starting value\n",
    "            start = mid + 1\n",
    "        # check if the number is lower\n",
    "        elif hint == \"l\":\n",
    "            # update the ending value\n",
    "            end = mid - 1\n",
    "        # check if the user entered an invalid hint\n",
    "        else:\n",
    "            # ask the user to enter a valid hint\n",
    "            print(\"Please enter a valid hint.\")\n",
    "    # check if the user entered an invalid guess\n",
    "    else:\n",
    "        # ask the user to enter a valid guess\n",
    "        print(\"Please enter a valid guess.\")"
   ]
  }
 ],
 "metadata": {
  "kernelspec": {
   "display_name": "Python 3.8.5 64-bit",
   "language": "python",
   "name": "python3"
  },
  "language_info": {
   "codemirror_mode": {
    "name": "ipython",
    "version": 3
   },
   "file_extension": ".py",
   "mimetype": "text/x-python",
   "name": "python",
   "nbconvert_exporter": "python",
   "pygments_lexer": "ipython3",
   "version": "3.8.5"
  },
  "orig_nbformat": 4,
  "vscode": {
   "interpreter": {
    "hash": "1d7f39b2b0bfe5bdaa3f9f492df23bdca5d327be912c630d1f67bfb7f9f16537"
   }
  }
 },
 "nbformat": 4,
 "nbformat_minor": 2
}
