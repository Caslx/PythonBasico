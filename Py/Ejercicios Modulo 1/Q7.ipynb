{
 "cells": [
  {
   "cell_type": "code",
   "execution_count": 3,
   "metadata": {},
   "outputs": [
    {
     "name": "stdout",
     "output_type": "stream",
     "text": [
      "Consonant\n"
     ]
    }
   ],
   "source": [
    "#enter a letter and print if it is a vowel or consonant\n",
    "letter = input(\"Enter a letter: \")\n",
    "#give error if more than one letter is entered or if a number is entered\n",
    "if len(letter) > 1 or letter.isdigit():\n",
    "    print(\"Error\")\n",
    "elif letter in ('a', 'e', 'i', 'o', 'u'):\n",
    "    print(\"Vowel\")\n",
    "else:\n",
    "    print(\"Consonant\")\n",
    "     \n",
    "     "
   ]
  },
  {
   "cell_type": "code",
   "execution_count": 2,
   "metadata": {},
   "outputs": [
    {
     "name": "stdout",
     "output_type": "stream",
     "text": [
      "The second number is a multiple of the first\n"
     ]
    }
   ],
   "source": [
    "#receive 2 integers and determine if the second is a multiple of the first\n",
    "num1 = int(input(\"Enter a number: \"))\n",
    "num2 = int(input(\"Enter another number: \"))\n",
    "if num2 % num1 == 0:\n",
    "    print(\"The second number is a multiple of the first\")\n",
    "else:\n",
    "    print(\"The second number is not a multiple of the first\")\n",
    "      \n",
    "      "
   ]
  },
  {
   "cell_type": "code",
   "execution_count": null,
   "metadata": {},
   "outputs": [],
   "source": [
    "#create a program that make mathemathical operations such as addition, subtraction, multiplication and division\n",
    "num1 = int(input(\"Enter a number: \"))\n",
    "num2 = int(input(\"Enter another number: \"))\n",
    "print(\"1. Addition\")\n",
    "print(\"2. Subtraction\")\n",
    "print(\"3. Multiplication\")\n",
    "print(\"4. Division\")\n",
    "choice = int(input(\"Enter your choice: \"))\n",
    "if choice == 1:\n",
    "    print(num1 + num2)\n",
    "elif choice == 2:\n",
    "    print(num1 - num2)\n",
    "elif choice == 3:\n",
    "    print(num1 * num2)\n",
    "elif choice == 4:\n",
    "    print(num1 / num2)\n",
    "else:\n",
    "    print(\"Invalid choice\")\n",
    "     \n",
    "     "
   ]
  },
  {
   "cell_type": "code",
   "execution_count": null,
   "metadata": {},
   "outputs": [],
   "source": [
    "#write a program that receives 2 coordinates and determine in which quadrant they are\n",
    "x = int(input(\"Enter the x coordinate: \")) \n",
    "y = int(input(\"Enter the y coordinate: \"))\n",
    "if x > 0 and y > 0:\n",
    "    print(\"The coordinates are in the first quadrant\")\n",
    "elif x < 0 and y > 0:\n",
    "    print(\"The coordinates are in the second quadrant\")\n",
    "elif x < 0 and y < 0:\n",
    "    print(\"The coordinates are in the third quadrant\")\n",
    "elif x > 0 and y < 0:\n",
    "    print(\"The coordinates are in the fourth quadrant\")\n",
    "else:\n",
    "    print(\"The coordinates are in the origin\")\n",
    "     \n",
    " "
   ]
  },
  {
   "cell_type": "code",
   "execution_count": 1,
   "metadata": {},
   "outputs": [
    {
     "name": "stdout",
     "output_type": "stream",
     "text": [
      "1. Hamburger\n",
      "2. Cheeseburger\n",
      "3. Hotdog\n",
      "You selected Cheeseburger\n"
     ]
    }
   ],
   "source": [
    "#select an item of a menu with 3 option and then print the item selected\n",
    "print(\"1. Hamburger\")\n",
    "print(\"2. Cheeseburger\")\n",
    "print(\"3. Hotdog\")\n",
    "choice = int(input(\"Enter your choice: \"))\n",
    "if choice == 1:\n",
    "    print(\"You selected Hamburger\")\n",
    "elif choice == 2:\n",
    "    print(\"You selected Cheeseburger\")\n",
    "elif choice == 3:\n",
    "    print(\"You selected Hotdog\")\n",
    "else:\n",
    "    print(\"Invalid choice\")\n",
    "     \n",
    "     "
   ]
  }
 ],
 "metadata": {
  "kernelspec": {
   "display_name": "Python 3.8.5 64-bit",
   "language": "python",
   "name": "python3"
  },
  "language_info": {
   "codemirror_mode": {
    "name": "ipython",
    "version": 3
   },
   "file_extension": ".py",
   "mimetype": "text/x-python",
   "name": "python",
   "nbconvert_exporter": "python",
   "pygments_lexer": "ipython3",
   "version": "3.8.5"
  },
  "orig_nbformat": 4,
  "vscode": {
   "interpreter": {
    "hash": "1d7f39b2b0bfe5bdaa3f9f492df23bdca5d327be912c630d1f67bfb7f9f16537"
   }
  }
 },
 "nbformat": 4,
 "nbformat_minor": 2
}
