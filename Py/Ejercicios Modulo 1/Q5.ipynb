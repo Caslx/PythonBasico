{
 "cells": [
  {
   "cell_type": "code",
   "execution_count": null,
   "metadata": {},
   "outputs": [],
   "source": [
    "#insertar el numero y devbolver true si es par o false si es impar\n",
    "\n",
    "def par_impar(numero):\n",
    "    if numero%2==0:\n",
    "        return True\n",
    "    else:\n",
    "        return False"
   ]
  },
  {
   "cell_type": "code",
   "execution_count": 6,
   "metadata": {},
   "outputs": [
    {
     "data": {
      "text/plain": [
       "'numero fuera de rango'"
      ]
     },
     "execution_count": 6,
     "metadata": {},
     "output_type": "execute_result"
    }
   ],
   "source": [
    "#insertar el numero y devbolver true si es par o false si es impar en el rango de 1 a 100\n",
    "  \n",
    "def par_impar(numero):\n",
    "    if numero>0 and numero<100:\n",
    "         if numero%2==0:\n",
    "            return True\n",
    "         else:\n",
    "             return False\n",
    "    else:\n",
    "        return \"numero fuera de rango\"\n",
    "     \n",
    "         \n",
    "numero=int(input(\"insertar numero: \"))\n",
    "par_impar(numero)"
   ]
  }
 ],
 "metadata": {
  "kernelspec": {
   "display_name": "Python 3.8.5 64-bit",
   "language": "python",
   "name": "python3"
  },
  "language_info": {
   "codemirror_mode": {
    "name": "ipython",
    "version": 3
   },
   "file_extension": ".py",
   "mimetype": "text/x-python",
   "name": "python",
   "nbconvert_exporter": "python",
   "pygments_lexer": "ipython3",
   "version": "3.8.5"
  },
  "orig_nbformat": 4,
  "vscode": {
   "interpreter": {
    "hash": "1d7f39b2b0bfe5bdaa3f9f492df23bdca5d327be912c630d1f67bfb7f9f16537"
   }
  }
 },
 "nbformat": 4,
 "nbformat_minor": 2
}
