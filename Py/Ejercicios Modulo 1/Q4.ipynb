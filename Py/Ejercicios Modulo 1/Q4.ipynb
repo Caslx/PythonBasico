{
 "cells": [
  {
   "cell_type": "code",
   "execution_count": 2,
   "metadata": {},
   "outputs": [
    {
     "name": "stdout",
     "output_type": "stream",
     "text": [
      "La hipotenusa es 45.254833995939045\n"
     ]
    }
   ],
   "source": [
    "#El teorema de Pitágoras afirma que el cuadrado de la hipotenusa c para cualquier triángulo rectángulo es igual al cuadrado de la base a más el cuadrado de la altura b. Escriba un código que calcule el largo de la hipotenusa recibiendo la base y la altura como enteros.\n",
    "\n",
    "\n",
    "a=int(input(\"Ingrese la base: \"))\n",
    "b=int(input(\"Ingrese la altura: \"))\n",
    "\n",
    "\n",
    "\n",
    "c= (a**2 + b**2)**0.5\n",
    "print(\"La hipotenusa es\", c)\n",
    " "
   ]
  },
  {
   "cell_type": "code",
   "execution_count": 1,
   "metadata": {},
   "outputs": [
    {
     "name": "stdout",
     "output_type": "stream",
     "text": [
      "El área del círculo es 3216.990208\n",
      "La circunferencia del círculo es 201.061888\n"
     ]
    }
   ],
   "source": [
    "#Reciba el valor de un radio del usuario e imprima el área y la circunferencia de un círculo con dicho radio. Use la variable PI = 3.141592 para obtener esos valores.\n",
    "\n",
    "radio = int(input(\"Ingrese el radio: \"))\n",
    "PI = 3.141592\n",
    "area = PI * radio**2\n",
    "circunferencia = 2 * PI * radio\n",
    "print(\"El área del círculo es\", area)32\n",
    "print(\"La circunferencia del círculo es\", circunferencia)\n",
    " "
   ]
  }
 ],
 "metadata": {
  "kernelspec": {
   "display_name": "Python 3.8.5 64-bit",
   "language": "python",
   "name": "python3"
  },
  "language_info": {
   "codemirror_mode": {
    "name": "ipython",
    "version": 3
   },
   "file_extension": ".py",
   "mimetype": "text/x-python",
   "name": "python",
   "nbconvert_exporter": "python",
   "pygments_lexer": "ipython3",
   "version": "3.8.5"
  },
  "orig_nbformat": 4,
  "vscode": {
   "interpreter": {
    "hash": "1d7f39b2b0bfe5bdaa3f9f492df23bdca5d327be912c630d1f67bfb7f9f16537"
   }
  }
 },
 "nbformat": 4,
 "nbformat_minor": 2
}
