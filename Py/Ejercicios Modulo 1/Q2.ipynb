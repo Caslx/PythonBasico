{
 "cells": [
  {
   "cell_type": "code",
   "execution_count": 4,
   "metadata": {},
   "outputs": [
    {
     "name": "stdout",
     "output_type": "stream",
     "text": [
      "2\n"
     ]
    }
   ],
   "source": [
    "#Escriba un diagrama de flujos que factorice 18, 39, 63, 126, 792.\n",
    "\n",
    "def factorizar(n):\n",
    "    for i in range(2,n):\n",
    "        if n%i==0:\n",
    "            return i\n",
    "    return n\n",
    "\n",
    "\n",
    "print (factorizar(18))\n",
    "\n",
    " "
   ]
  }
 ],
 "metadata": {
  "kernelspec": {
   "display_name": "Python 3.8.5 64-bit",
   "language": "python",
   "name": "python3"
  },
  "language_info": {
   "codemirror_mode": {
    "name": "ipython",
    "version": 3
   },
   "file_extension": ".py",
   "mimetype": "text/x-python",
   "name": "python",
   "nbconvert_exporter": "python",
   "pygments_lexer": "ipython3",
   "version": "3.8.5"
  },
  "orig_nbformat": 4,
  "vscode": {
   "interpreter": {
    "hash": "1d7f39b2b0bfe5bdaa3f9f492df23bdca5d327be912c630d1f67bfb7f9f16537"
   }
  }
 },
 "nbformat": 4,
 "nbformat_minor": 2
}
