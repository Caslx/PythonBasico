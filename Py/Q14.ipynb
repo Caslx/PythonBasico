{
 "cells": [
  {
   "cell_type": "code",
   "execution_count": 2,
   "metadata": {},
   "outputs": [
    {
     "name": "stdout",
     "output_type": "stream",
     "text": [
      "Apellido: Doe\n",
      "Primer nombre: David\n",
      "Compañia: Samsung\n"
     ]
    }
   ],
   "source": [
    "persona_diccionario = {'Apellido': 'Doe', 'Primer nombre': 'David', 'Compañia': 'Samsung'}\n",
    "\n",
    "# Imprimir información utilizando el bucle for\n",
    "for key, value in persona_diccionario.items():\n",
    "    print(key + \": \" + value)"
   ]
  },
  {
   "cell_type": "code",
   "execution_count": 3,
   "metadata": {},
   "outputs": [
    {
     "name": "stdout",
     "output_type": "stream",
     "text": [
      "Seleccione el menú\n",
      "1) Comprobar existencias\n",
      "2) Almacenamiento\n",
      "3) Liberación\n",
      "4) Salir\n",
      "- Se ha actualizado el inventario.\n",
      "Seleccione el menú\n",
      "1) Comprobar existencias\n",
      "2) Almacenamiento\n",
      "3) Liberación\n",
      "4) Salir\n"
     ]
    },
    {
     "ename": "ValueError",
     "evalue": "invalid literal for int() with base 10: ''",
     "output_type": "error",
     "traceback": [
      "\u001b[1;31m---------------------------------------------------------------------------\u001b[0m",
      "\u001b[1;31mValueError\u001b[0m                                Traceback (most recent call last)",
      "\u001b[1;32mc:\\Users\\camil\\awesomeproject\\Js\\Py\\Q14.ipynb Cell 2\u001b[0m in \u001b[0;36m<cell line: 5>\u001b[1;34m()\u001b[0m\n\u001b[0;32m      <a href='vscode-notebook-cell:/c%3A/Users/camil/awesomeproject/Js/Py/Q14.ipynb#W2sZmlsZQ%3D%3D?line=7'>8</a>\u001b[0m \u001b[39mprint\u001b[39m(\u001b[39m\"\u001b[39m\u001b[39m3) Liberación\u001b[39m\u001b[39m\"\u001b[39m)\n\u001b[0;32m      <a href='vscode-notebook-cell:/c%3A/Users/camil/awesomeproject/Js/Py/Q14.ipynb#W2sZmlsZQ%3D%3D?line=8'>9</a>\u001b[0m \u001b[39mprint\u001b[39m(\u001b[39m\"\u001b[39m\u001b[39m4) Salir\u001b[39m\u001b[39m\"\u001b[39m)\n\u001b[1;32m---> <a href='vscode-notebook-cell:/c%3A/Users/camil/awesomeproject/Js/Py/Q14.ipynb#W2sZmlsZQ%3D%3D?line=9'>10</a>\u001b[0m opcion \u001b[39m=\u001b[39m \u001b[39mint\u001b[39;49m(\u001b[39minput\u001b[39;49m())\n\u001b[0;32m     <a href='vscode-notebook-cell:/c%3A/Users/camil/awesomeproject/Js/Py/Q14.ipynb#W2sZmlsZQ%3D%3D?line=11'>12</a>\u001b[0m \u001b[39m# Comprobar existencias\u001b[39;00m\n\u001b[0;32m     <a href='vscode-notebook-cell:/c%3A/Users/camil/awesomeproject/Js/Py/Q14.ipynb#W2sZmlsZQ%3D%3D?line=12'>13</a>\u001b[0m \u001b[39mif\u001b[39;00m opcion \u001b[39m==\u001b[39m \u001b[39m1\u001b[39m:\n",
      "\u001b[1;31mValueError\u001b[0m: invalid literal for int() with base 10: ''"
     ]
    }
   ],
   "source": [
    "items = {\"Cafe\": 7, \"Puma\": 3, \"Vaso de papel\": 2, \"Leche\": 1, \"coca-cola\": 4, \"Libro\": 5}\n",
    "\n",
    "while True:\n",
    "    # Mostrar menú\n",
    "    print(\"Seleccione el menú\")\n",
    "    print(\"1) Comprobar existencias\")\n",
    "    print(\"2) Almacenamiento\")\n",
    "    print(\"3) Liberación\")\n",
    "    print(\"4) Salir\")\n",
    "    opcion = int(input())\n",
    "\n",
    "    # Comprobar existencias\n",
    "    if opcion == 1:\n",
    "        articulo = input(\"[Comprobar existencias] Introduzca el artículo: \")\n",
    "        if articulo in items:\n",
    "            print(\"- Existencias:\", items[articulo])\n",
    "        else:\n",
    "            print(\"Artículo no encontrado en el inventario.\")\n",
    "    \n",
    "    # Almacenamiento\n",
    "    elif opcion == 2:\n",
    "        articulo = input(\"[Almacenamiento] Introduzca el artículo: \")\n",
    "        cantidad = int(input(\"[Almacenamiento] Introduzca la cantidad: \"))\n",
    "        if articulo in items:\n",
    "            items[articulo] += cantidad\n",
    "        else:\n",
    "            items[articulo] = cantidad\n",
    "        print(\"- Se ha actualizado el inventario.\")\n",
    "\n",
    "    # Liberación\n",
    "    elif opcion == 3:\n",
    "        articulo = input(\"[Liberación] Introduzca el artículo: \")\n",
    "        cantidad = int(input(\"[Liberación] Introduzca la cantidad: \"))\n",
    "        if articulo in items:\n",
    "            items[articulo] -= cantidad\n",
    "            if items[articulo] < 0:\n",
    "                items[articulo] = 0\n",
    "                print(\"- Inventario no puede ser negativo.\")\n",
    "            else:\n",
    "                print(\"- Se ha actualizado el inventario.\")\n",
    "        else:\n",
    "            print(\"Artículo no encontrado en el inventario.\")\n",
    "\n",
    "    # Salir\n",
    "    elif opcion == 4:\n",
    "        print(\"Se ha salido del programa.\")\n",
    "        break\n",
    "    else:\n",
    "        print(\"Opción no válida.\")\n"
   ]
  },
  {
   "cell_type": "code",
   "execution_count": 1,
   "metadata": {},
   "outputs": [
    {
     "name": "stdout",
     "output_type": "stream",
     "text": [
      "Artículo no encontrado en el inventario.\n"
     ]
    }
   ],
   "source": [
    "# Diccionario de inventario\n",
    "items = {\"Café\": 7, \"Lápiz\": 3, \"Vaso de papel\": 2, \"Leche\": 1, \"Coca-Cola\": 4, \"Libro\": 5}\n",
    "\n",
    "# Recibir nombre del artículo\n",
    "articulo = input(\"Introduzca el nombre del artículo: \")\n",
    "\n",
    "# Comprobar si el artículo está en el inventario\n",
    "if articulo in items:\n",
    "    print(\"Inventario del artículo:\", items[articulo])\n",
    "else:\n",
    "    print(\"Artículo no encontrado en el inventario.\")\n"
   ]
  }
 ],
 "metadata": {
  "kernelspec": {
   "display_name": "Python 3",
   "language": "python",
   "name": "python3"
  },
  "language_info": {
   "codemirror_mode": {
    "name": "ipython",
    "version": 3
   },
   "file_extension": ".py",
   "mimetype": "text/x-python",
   "name": "python",
   "nbconvert_exporter": "python",
   "pygments_lexer": "ipython3",
   "version": "3.8.5 (tags/v3.8.5:580fbb0, Jul 20 2020, 15:57:54) [MSC v.1924 64 bit (AMD64)]"
  },
  "orig_nbformat": 4,
  "vscode": {
   "interpreter": {
    "hash": "1d7f39b2b0bfe5bdaa3f9f492df23bdca5d327be912c630d1f67bfb7f9f16537"
   }
  }
 },
 "nbformat": 4,
 "nbformat_minor": 2
}
