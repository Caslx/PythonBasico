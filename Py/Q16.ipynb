{
 "cells": [
  {
   "cell_type": "code",
   "execution_count": null,
   "metadata": {},
   "outputs": [],
   "source": [
    "lst = ['apple', 'mango', 'banana']\n",
    "s1 = set(lst)\n",
    "print(s1)\n"
   ]
  },
  {
   "cell_type": "code",
   "execution_count": null,
   "metadata": {},
   "outputs": [],
   "source": [
    "s1 | s2 = {10, 20, 30, 40, 50, 60, 70} (El operador '|' devuelve el conjunto unión de s1 y s2)\n",
    "s1 & s2 = {30, 40} (El operador '&' devuelve el conjunto intersección de s1 y s2)\n",
    "s1 – s2 = {10, 20} (El operador '-' devuelve los elementos en s1 pero no en s2)\n",
    "s1 ^ s2 = {10, 20, 50, 60, 70} (El operador '^' devuelve los elementos en s1 o s2 pero no en ambos)\n",
    "s1.issubset(s2) = False (El método 'issubset' devuelve verdadero si s1 es un subconjunto de s2, falso en caso contrario)\n",
    "s1.issuperset(s2) = False (El método 'issuperset' devuelve verdadero si s1 es un superconjunto de s2, falso en caso contrario)\n",
    "s1.isdisjoint(s2) = False (El método 'isdisjoint' devuelve verdadero si s1 y s2 no tienen elementos en común, falso en caso contrario)"
   ]
  },
  {
   "cell_type": "code",
   "execution_count": null,
   "metadata": {},
   "outputs": [],
   "source": [
    "mylist = [(1, 2), (4, 5), (4, 2), (3, 1), (9, 4)]\n",
    "a, b = map(int, input(\"Introduce dos enteros: \").split())\n",
    "\n",
    "for i, (x, y) in enumerate(mylist):\n",
    "    if (a, b) == (x, y):\n",
    "        print(f'Hay un elemento ({a}, {b}) en el {i + 1}')\n",
    "        break\n",
    "    elif (a, b) == (y, x):\n",
    "        print(f'No hay ({a}, {b}) pero hay ({y}, {x}) en el {i + 1}')\n",
    "        break\n",
    "else:\n",
    "    print(\"No hay tal elemento.\")\n"
   ]
  }
 ],
 "metadata": {
  "kernelspec": {
   "display_name": "Python 3",
   "language": "python",
   "name": "python3"
  },
  "language_info": {
   "name": "python",
   "version": "3.8.5 (tags/v3.8.5:580fbb0, Jul 20 2020, 15:57:54) [MSC v.1924 64 bit (AMD64)]"
  },
  "orig_nbformat": 4,
  "vscode": {
   "interpreter": {
    "hash": "1d7f39b2b0bfe5bdaa3f9f492df23bdca5d327be912c630d1f67bfb7f9f16537"
   }
  }
 },
 "nbformat": 4,
 "nbformat_minor": 2
}
