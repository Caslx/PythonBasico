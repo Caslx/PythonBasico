{
 "cells": [
  {
   "cell_type": "code",
   "execution_count": 8,
   "metadata": {
    "tags": []
   },
   "outputs": [
    {
     "name": "stdout",
     "output_type": "stream",
     "text": [
      "3\n"
     ]
    }
   ],
   "source": [
    "\n",
    "def max_ocurrencias(tupla):\n",
    "    maximo = 0\n",
    "    elemento = None\n",
    "    for x in set(tupla):\n",
    "        count = tupla.count(x)\n",
    "        if count > maximo:\n",
    "            maximo = count\n",
    "            elemento = x\n",
    "    return elemento\n",
    "\n",
    "#test case \n",
    "tupla = (1, 2, 3, 3, 4, 5, 6, 7, 8, 9, 10, 11, 12, 13, 14, 15, 16, 17, 18, 19, 20, 3)\n",
    "print(max_ocurrencias(tupla))\n",
    "\n",
    "#test case 2\n",
    " \n",
    "  \n",
    "   \n",
    "    \n",
    "    \n",
    "     "
   ]
  },
  {
   "cell_type": "code",
   "execution_count": 9,
   "metadata": {},
   "outputs": [
    {
     "name": "stdout",
     "output_type": "stream",
     "text": [
      "[(1,), 'abc', (1,), ('a',), ('a', 'b')]\n"
     ]
    }
   ],
   "source": [
    "def remove_empty_elements(list_to_clean):\n",
    "    # remove empty tuples\n",
    "    result = [x for x in list_to_clean if x != ()]\n",
    "    # remove empty strings and lists\n",
    "    result = [x for x in result if any(x)]\n",
    "    return result\n",
    "\n",
    "#test\n",
    "tupla = [(), (1,), [], 'abc', (), (), (1,), ('a',), ('a', 'b'), ((),), '']\n",
    "\n",
    "result = remove_empty_elements(tupla)\n",
    "\n",
    "print(result)\n"
   ]
  }
 ],
 "metadata": {
  "kernelspec": {
   "display_name": "Python 3.8.5 64-bit",
   "language": "python",
   "name": "python3"
  },
  "language_info": {
   "codemirror_mode": {
    "name": "ipython",
    "version": 3
   },
   "file_extension": ".py",
   "mimetype": "text/x-python",
   "name": "python",
   "nbconvert_exporter": "python",
   "pygments_lexer": "ipython3",
   "version": "3.8.5 (tags/v3.8.5:580fbb0, Jul 20 2020, 15:57:54) [MSC v.1924 64 bit (AMD64)]"
  },
  "orig_nbformat": 4,
  "vscode": {
   "interpreter": {
    "hash": "1d7f39b2b0bfe5bdaa3f9f492df23bdca5d327be912c630d1f67bfb7f9f16537"
   }
  }
 },
 "nbformat": 4,
 "nbformat_minor": 2
}
