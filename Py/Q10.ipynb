{
 "cells": [
  {
   "cell_type": "code",
   "execution_count": 1,
   "metadata": {},
   "outputs": [
    {
     "name": "stdout",
     "output_type": "stream",
     "text": [
      "La cadena más corta es:\n",
      "abc\n"
     ]
    }
   ],
   "source": [
    "#Q1\n",
    "\n",
    "def encontrar_cadena_mas_corta(s_lista):\n",
    "  # Asumimos que la primera cadena es la más corta\n",
    "  cadena_mas_corta = s_lista[0]\n",
    "  \n",
    "  # Recorremos la lista desde el segundo elemento\n",
    "  for i in range(1, len(s_lista)):\n",
    "    # Si encontramos una cadena más corta, la guardamos como la cadena más corta\n",
    "    if len(s_lista[i]) < len(cadena_mas_corta):\n",
    "      cadena_mas_corta = s_lista[i]\n",
    "  \n",
    "  # Imprimimos la cadena más corta\n",
    "  print(\"La cadena más corta es:\")\n",
    "  print(cadena_mas_corta)\n",
    "\n",
    "# Prueba de la función\n",
    "s_lista = ['abc', 'bcd', 'bcdefg', 'abba', 'cddc', 'opq']\n",
    "encontrar_cadena_mas_corta(s_lista)"
   ]
  },
  {
   "cell_type": "code",
   "execution_count": 1,
   "metadata": {},
   "outputs": [
    {
     "name": "stdout",
     "output_type": "stream",
     "text": [
      "Las cadenas más cortas son:\n",
      "['abc', 'bcd', 'opq']\n"
     ]
    }
   ],
   "source": [
    "#Q2\n",
    "def encontrar_cadenas_mas_cortas(s_lista):\n",
    "  # Ordenamos la lista por la longitud de las cadenas\n",
    "  s_lista.sort(key=len)\n",
    "  \n",
    "  # Tomamos las tres primeras cadenas más cortas\n",
    "  cadenas_mas_cortas = s_lista[:3]\n",
    "  \n",
    "  # Imprimimos las tres cadenas más cortas\n",
    "  print(\"Las cadenas más cortas son:\")\n",
    "  print(cadenas_mas_cortas)\n",
    "\n",
    "# Prueba de la función\n",
    "s_lista = ['abc', 'bcd', 'bcdefg', 'abba', 'cddc', 'opq']\n",
    "encontrar_cadenas_mas_cortas(s_lista)\n"
   ]
  }
 ],
 "metadata": {
  "kernelspec": {
   "display_name": "Python 3.8.5 64-bit",
   "language": "python",
   "name": "python3"
  },
  "language_info": {
   "codemirror_mode": {
    "name": "ipython",
    "version": 3
   },
   "file_extension": ".py",
   "mimetype": "text/x-python",
   "name": "python",
   "nbconvert_exporter": "python",
   "pygments_lexer": "ipython3",
   "version": "3.8.5 (tags/v3.8.5:580fbb0, Jul 20 2020, 15:57:54) [MSC v.1924 64 bit (AMD64)]"
  },
  "orig_nbformat": 4,
  "vscode": {
   "interpreter": {
    "hash": "1d7f39b2b0bfe5bdaa3f9f492df23bdca5d327be912c630d1f67bfb7f9f16537"
   }
  }
 },
 "nbformat": 4,
 "nbformat_minor": 2
}
