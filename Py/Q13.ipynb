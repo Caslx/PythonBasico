{
 "cells": [
  {
   "cell_type": "code",
   "execution_count": 2,
   "metadata": {},
   "outputs": [
    {
     "name": "stdout",
     "output_type": "stream",
     "text": [
      "101\n",
      "010\n",
      "101\n"
     ]
    }
   ],
   "source": [
    "n = int(input(\"Ingrese el tamaño del arreglo: \"))\n",
    "\n",
    "# Crear arreglo vacío con dimensiones n x n\n",
    "arr = [[0 for x in range(n)] for y in range(n)]\n",
    "\n",
    "# Rellenar el arreglo con el patrón de cuadros\n",
    "for i in range(n):\n",
    "    # Rellenar con 1 si la suma de i y j es par\n",
    "    for j in range(n):\n",
    "        if (i + j) % 2 == 0:\n",
    "            arr[i][j] = 1\n",
    "\n",
    "# Mostrar el arreglo\n",
    "for i in range(n):\n",
    "    # Mostrar cada elemento del arreglo\n",
    "    for j in range(n):\n",
    "        print(arr[i][j], end=\"\")\n",
    "    print()"
   ]
  },
  {
   "cell_type": "code",
   "execution_count": 3,
   "metadata": {},
   "outputs": [
    {
     "name": "stdout",
     "output_type": "stream",
     "text": [
      "1 2 3 4 \n",
      "5 6 7 8 \n",
      "9 10 11 12 \n",
      "13 14 15 16 \n"
     ]
    }
   ],
   "source": [
    "# Crear una lista 2D de tamaño 4 x 4 con valores de 1 a 16\n",
    "arr = [[i+j for i in range(1,5)] for j in range(0,16,4)]\n",
    "\n",
    "# Imprimir todos los elementos\n",
    "for i in range(len(arr)):\n",
    "    for j in range(len(arr[i])):\n",
    "        print(arr[i][j], end=\" \")\n",
    "    print()\n"
   ]
  },
  {
   "cell_type": "code",
   "execution_count": null,
   "metadata": {},
   "outputs": [],
   "source": []
  }
 ],
 "metadata": {
  "kernelspec": {
   "display_name": "Python 3.8.5 64-bit",
   "language": "python",
   "name": "python3"
  },
  "language_info": {
   "codemirror_mode": {
    "name": "ipython",
    "version": 3
   },
   "file_extension": ".py",
   "mimetype": "text/x-python",
   "name": "python",
   "nbconvert_exporter": "python",
   "pygments_lexer": "ipython3",
   "version": "3.8.5"
  },
  "orig_nbformat": 4,
  "vscode": {
   "interpreter": {
    "hash": "1d7f39b2b0bfe5bdaa3f9f492df23bdca5d327be912c630d1f67bfb7f9f16537"
   }
  }
 },
 "nbformat": 4,
 "nbformat_minor": 2
}
