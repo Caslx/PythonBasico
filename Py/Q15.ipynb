{
 "cells": [
  {
   "cell_type": "code",
   "execution_count": null,
   "metadata": {},
   "outputs": [],
   "source": [
    "estudiante_tup = (('211101', 'David Doe', '010-1234-4500'), \n",
    "                  ('211102', 'John Smith', '010-2230-5540'),\n",
    "                  ('211103', 'Jane Carter', '010-3232-7788'))\n",
    "\n",
    "estudiantes_dict = {}\n",
    "\n",
    "for estudiante in estudiante_tup:\n",
    "    estudiantes_dict[estudiante[0]] = [estudiante[1], estudiante[2]]\n",
    "\n",
    "for key, value in estudiantes_dict.items():\n",
    "    print(\"{ \" + key + \" = \" + str(value) + \" }\")\n"
   ]
  },
  {
   "cell_type": "code",
   "execution_count": null,
   "metadata": {},
   "outputs": [],
   "source": [
    "estudiante_tup = (('211101', 'David Doe', '010-1234-4500'), \n",
    "                  ('211102', 'John Smith', '010-2230-5540'),\n",
    "                  ('211103', 'Jane Carter', '010-3232-7788'))\n",
    "\n",
    "numero_id = input(\"Ingrese el número de identificación del estudiante: \")\n",
    "\n",
    "for estudiante in estudiante_tup:\n",
    "    if numero_id == estudiante[0]:\n",
    "        print(\"Name:\", estudiante[1])\n",
    "        print(\"Phone number:\", estudiante[2])\n",
    "        break\n",
    "else:\n",
    "    print(\"Estudiante no encontrado.\")\n"
   ]
  },
  {
   "cell_type": "code",
   "execution_count": null,
   "metadata": {},
   "outputs": [],
   "source": [
    "estudiante_tupla = [('211101', 'David Doe', '010-123-1111'), \n",
    "                   ('211102', 'John Smith', '010-123-2222'),\n",
    "                   ('211103', 'Jane Carter', '010-123-3333')]\n",
    "\n",
    "estudiante_dic = {}\n",
    "\n",
    "for estudiante in estudiante_tupla:\n",
    "    estudiante_dic[estudiante[0]] = estudiante[1]\n",
    "\n",
    "for key, value in estudiante_dic.items():\n",
    "    print(key + \" : \" + value)\n",
    "\n",
    "numero_id = input(\"Ingrese el numero de identificación del estudiante: \")\n",
    "\n",
    "for estudiante in estudiante_tupla:\n",
    "    if numero_id == estudiante[0]:\n",
    "        print(numero_id + \" es el estudiante \" + estudiante[1] + \" y su numero de telefono es \" + estudiante[2])\n",
    "        break\n",
    "else:\n",
    "    print(\"Estudiante no encontrado.\")\n"
   ]
  }
 ],
 "metadata": {
  "kernelspec": {
   "display_name": "Python 3",
   "language": "python",
   "name": "python3"
  },
  "language_info": {
   "name": "python",
   "version": "3.8.5 (tags/v3.8.5:580fbb0, Jul 20 2020, 15:57:54) [MSC v.1924 64 bit (AMD64)]"
  },
  "orig_nbformat": 4,
  "vscode": {
   "interpreter": {
    "hash": "1d7f39b2b0bfe5bdaa3f9f492df23bdca5d327be912c630d1f67bfb7f9f16537"
   }
  }
 },
 "nbformat": 4,
 "nbformat_minor": 2
}
